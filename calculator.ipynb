{
 "cells": [
  {
   "cell_type": "code",
   "execution_count": 23,
   "metadata": {},
   "outputs": [],
   "source": [
    "from tkinter import *"
   ]
  },
  {
   "cell_type": "code",
   "execution_count": 103,
   "metadata": {},
   "outputs": [
    {
     "data": {
      "text/plain": [
       "''"
      ]
     },
     "execution_count": 103,
     "metadata": {},
     "output_type": "execute_result"
    }
   ],
   "source": [
    "root = Tk()\n",
    "root.title(\"Calculator\")"
   ]
  },
  {
   "cell_type": "code",
   "execution_count": 104,
   "metadata": {},
   "outputs": [],
   "source": [
    "e = Entry(root, width=35, borderwidth=5)\n",
    "e.grid(row=0, column=0, columnspan=3, padx=10, pady=10)"
   ]
  },
  {
   "cell_type": "code",
   "execution_count": 105,
   "metadata": {},
   "outputs": [],
   "source": [
    "def button_click(number):\n",
    "    current=e.get()\n",
    "    e.delete(0, END)\n",
    "    e.insert(0, str(current) + str(number))\n",
    "    "
   ]
  },
  {
   "cell_type": "markdown",
   "metadata": {},
   "source": [
    "#### define buttons"
   ]
  },
  {
   "cell_type": "code",
   "execution_count": 106,
   "metadata": {},
   "outputs": [],
   "source": [
    "button_1 = Button(root, text=\"1\", padx=40, pady=20, command=lambda:button_click(1))\n",
    "button_2 = Button(root, text=\"2\", padx=40, pady=20, command=lambda:button_click(2))\n",
    "button_3 = Button(root, text=\"3\", padx=40, pady=20, command=lambda:button_click(3))\n",
    "button_4 = Button(root, text=\"4\", padx=40, pady=20, command=lambda:button_click(4))\n",
    "button_5 = Button(root, text=\"5\", padx=40, pady=20, command=lambda:button_click(5))\n",
    "button_6 = Button(root, text=\"6\", padx=40, pady=20, command=lambda:button_click(6))\n",
    "button_7 = Button(root, text=\"7\", padx=40, pady=20, command=lambda:button_click(7))\n",
    "button_8 = Button(root, text=\"8\", padx=40, pady=20, command=lambda:button_click(8))\n",
    "button_9 = Button(root, text=\"9\", padx=40, pady=20, command=lambda:button_click(9))\n",
    "button_0 = Button(root, text=\"0\", padx=40, pady=20, command=lambda:button_click(0))\n",
    "button_add = Button(root, text=\"+\", padx=39, pady=20, command=lambda:button_click)\n",
    "button_equal = Button(root, text=\"=\", padx=91, pady=20, command=lambda:button_click)\n",
    "button_clear = Button(root, text=\"Clear\", padx=79, pady=20, command=lambda:button_click)\n",
    "\n",
    "\n",
    "\n"
   ]
  },
  {
   "cell_type": "markdown",
   "metadata": {},
   "source": [
    "#### put buttons on screen"
   ]
  },
  {
   "cell_type": "code",
   "execution_count": 107,
   "metadata": {},
   "outputs": [],
   "source": [
    "button_1.grid(row=3, column=0)\n",
    "button_2.grid(row=3, column=1)\n",
    "button_3.grid(row=3, column=2)\n",
    "\n",
    "button_4.grid(row=2, column=0)\n",
    "button_5.grid(row=2, column=1)\n",
    "button_6.grid(row=2, column=2)\n",
    "\n",
    "button_7.grid(row=1, column=0)\n",
    "button_8.grid(row=1, column=1)\n",
    "button_9.grid(row=1, column=2)\n",
    "\n",
    "button_0.grid(row=4, column=0)\n",
    "button_add.grid(row=5, column=0)\n",
    "button_clear.grid(row=4, column=1, columnspan=2)\n",
    "button_equal.grid(row=5, column=1, columnspan=2)\n"
   ]
  },
  {
   "cell_type": "code",
   "execution_count": null,
   "metadata": {},
   "outputs": [],
   "source": [
    "root.mainloop()"
   ]
  },
  {
   "cell_type": "code",
   "execution_count": null,
   "metadata": {},
   "outputs": [],
   "source": []
  },
  {
   "cell_type": "code",
   "execution_count": null,
   "metadata": {},
   "outputs": [],
   "source": []
  }
 ],
 "metadata": {
  "kernelspec": {
   "display_name": "Python 3",
   "language": "python",
   "name": "python3"
  },
  "language_info": {
   "codemirror_mode": {
    "name": "ipython",
    "version": 3
   },
   "file_extension": ".py",
   "mimetype": "text/x-python",
   "name": "python",
   "nbconvert_exporter": "python",
   "pygments_lexer": "ipython3",
   "version": "3.8.5"
  }
 },
 "nbformat": 4,
 "nbformat_minor": 4
}
